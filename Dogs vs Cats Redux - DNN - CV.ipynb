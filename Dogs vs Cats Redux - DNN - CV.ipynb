{
 "cells": [
  {
   "cell_type": "markdown",
   "metadata": {
    "_uuid": "4c3f3d35888564d368f7ec68edef5e54426a0c7b"
   },
   "source": [
    "深度学习区分猫狗图片程序"
   ]
  },
  {
   "cell_type": "code",
   "execution_count": 1,
   "metadata": {
    "_uuid": "307ad27f8b36d803d4378e627dc4477e76102483"
   },
   "outputs": [],
   "source": [
    "import cv2 # 机器视觉库，安装请用pip3 install opencv-python\n",
    "import numpy as np # 数值计算库\n",
    "import os # 系统库\n",
    "from random import shuffle # 随机数据库 \n",
    "from tqdm import tqdm # 输出进度库\n",
    "import matplotlib.pyplot as plt # 常用画图库"
   ]
  },
  {
   "cell_type": "code",
   "execution_count": 2,
   "metadata": {
    "_uuid": "05874c17b3f6134f98d0c9ec3c1bc23ad4080ee0"
   },
   "outputs": [],
   "source": [
    "train_dir = './train/'\n",
    "test_dir = './test/'\n",
    "img_size = 50\n",
    "lr = 1e-3"
   ]
  },
  {
   "cell_type": "markdown",
   "metadata": {
    "_uuid": "06c3ad57d5307c8b69ea102933d7194dd9506a22"
   },
   "source": [
    "将label变成每个类别的概率（类似于哑变量）"
   ]
  },
  {
   "cell_type": "code",
   "execution_count": 3,
   "metadata": {
    "_uuid": "d0531644c1668bab97c098aabd147a391c066621"
   },
   "outputs": [],
   "source": [
    "def label_img(img):\n",
    "    word_label = img.split('.')[-3]\n",
    "    if word_label == 'cat': return [1,0]\n",
    "    elif word_label == 'dog': return [0,1]"
   ]
  },
  {
   "cell_type": "markdown",
   "metadata": {
    "_uuid": "e33f66d1a7c85f913a66e7356f3f96ea39908abc"
   },
   "source": [
    "处理训练数据，大约需要30秒"
   ]
  },
  {
   "cell_type": "code",
   "execution_count": 4,
   "metadata": {
    "_uuid": "671f68d2d3dfc4d1593885f1c504da762fe24914"
   },
   "outputs": [],
   "source": [
    "def create_train_data():\n",
    "    training_data = []\n",
    "    for img in tqdm(os.listdir(train_dir)):\n",
    "        if (not img.endswith('.jpg')):\n",
    "            continue\n",
    "        label = label_img(img)\n",
    "        path = os.path.join(train_dir, img)\n",
    "        img = cv2.imread(path, cv2.IMREAD_GRAYSCALE)  # 读入灰度图\n",
    "        img = cv2.resize(img, (img_size, img_size) )  # 将图片变成统一大小\n",
    "        training_data.append([np.array(img), np.array(label)])\n",
    "    shuffle(training_data)\n",
    "    return training_data\n",
    "        "
   ]
  },
  {
   "cell_type": "code",
   "execution_count": 5,
   "metadata": {
    "_uuid": "0351c00c482b010b42ed2fb56e836323bf95dfd6"
   },
   "outputs": [
    {
     "name": "stderr",
     "output_type": "stream",
     "text": [
      "100%|██████████| 25000/25000 [00:36<00:00, 686.02it/s]\n"
     ]
    }
   ],
   "source": [
    "train_data = create_train_data()"
   ]
  },
  {
   "cell_type": "markdown",
   "metadata": {
    "_uuid": "e518a9e73945e02b9b01b47127ba212a067600cb"
   },
   "source": [
    "处理测试数据，注意没有label信息"
   ]
  },
  {
   "cell_type": "code",
   "execution_count": 6,
   "metadata": {
    "_uuid": "b190e78465bf52602e495d488c963b09e8545607"
   },
   "outputs": [],
   "source": [
    "def process_test_data():\n",
    "    testing_data = []\n",
    "    for img in tqdm(os.listdir(test_dir)):\n",
    "        if (not img.endswith('.jpg')):\n",
    "            continue\n",
    "        path = os.path.join(test_dir,img)\n",
    "        img_num = img.split('.')[0]\n",
    "        img = cv2.imread(path,cv2.IMREAD_GRAYSCALE)\n",
    "        img = cv2.resize(img, (img_size, img_size))\n",
    "        testing_data.append([np.array(img), img_num])\n",
    "        \n",
    "    shuffle(testing_data)\n",
    "    return testing_data"
   ]
  },
  {
   "cell_type": "markdown",
   "metadata": {
    "_uuid": "622e2b2bf35bc886b04d6c1fd21442ea17c30d88"
   },
   "source": [
    "导入基于Tensorflow的高级深度学习库tflearn"
   ]
  },
  {
   "cell_type": "code",
   "execution_count": 7,
   "metadata": {
    "_uuid": "08ffce55ed4f3cee6a208ec786ee48c0e2c1de3a"
   },
   "outputs": [
    {
     "name": "stderr",
     "output_type": "stream",
     "text": [
      "WARNING: Logging before flag parsing goes to stderr.\n",
      "W0919 15:08:30.131558 4563932608 deprecation_wrapper.py:119] From /anaconda3/lib/python3.7/site-packages/tflearn/helpers/summarizer.py:9: The name tf.summary.merge is deprecated. Please use tf.compat.v1.summary.merge instead.\n",
      "\n",
      "W0919 15:08:30.132447 4563932608 deprecation_wrapper.py:119] From /anaconda3/lib/python3.7/site-packages/tflearn/helpers/trainer.py:25: The name tf.summary.FileWriter is deprecated. Please use tf.compat.v1.summary.FileWriter instead.\n",
      "\n",
      "W0919 15:08:30.141307 4563932608 deprecation_wrapper.py:119] From /anaconda3/lib/python3.7/site-packages/tflearn/collections.py:13: The name tf.GraphKeys is deprecated. Please use tf.compat.v1.GraphKeys instead.\n",
      "\n",
      "W0919 15:08:30.145996 4563932608 deprecation_wrapper.py:119] From /anaconda3/lib/python3.7/site-packages/tflearn/config.py:123: The name tf.get_collection is deprecated. Please use tf.compat.v1.get_collection instead.\n",
      "\n",
      "W0919 15:08:30.155790 4563932608 deprecation_wrapper.py:119] From /anaconda3/lib/python3.7/site-packages/tflearn/config.py:129: The name tf.add_to_collection is deprecated. Please use tf.compat.v1.add_to_collection instead.\n",
      "\n",
      "W0919 15:08:30.156252 4563932608 deprecation_wrapper.py:119] From /anaconda3/lib/python3.7/site-packages/tflearn/config.py:131: The name tf.assign is deprecated. Please use tf.compat.v1.assign instead.\n",
      "\n"
     ]
    }
   ],
   "source": [
    "import tflearn # 需要安装tensorflow，然后安装tflearn\n",
    "from tflearn.layers.conv import conv_2d, max_pool_2d  # 2维CNN以及最大采样\n",
    "from tflearn.layers.core import input_data, dropout, fully_connected # 输入层，dropout，全连接层\n",
    "from tflearn.layers.estimator import regression # cross entropy层"
   ]
  },
  {
   "cell_type": "markdown",
   "metadata": {
    "_uuid": "a692db64b94fcf02bcf3f376e7899e19ffe81647"
   },
   "source": [
    "注意：如果多次运行不同的网络结构图，每次需要先清空图"
   ]
  },
  {
   "cell_type": "code",
   "execution_count": 8,
   "metadata": {
    "_uuid": "b047ac4375a780745672787a48d505faf5ce674b"
   },
   "outputs": [],
   "source": [
    "import tensorflow as tf\n",
    "tf.reset_default_graph()"
   ]
  },
  {
   "cell_type": "code",
   "execution_count": 9,
   "metadata": {
    "_uuid": "9e4c4e28e2f9ed07bd9a0a3ac8096446171f8d27"
   },
   "outputs": [
    {
     "name": "stderr",
     "output_type": "stream",
     "text": [
      "W0919 15:08:30.168632 4563932608 deprecation_wrapper.py:119] From /anaconda3/lib/python3.7/site-packages/tflearn/layers/core.py:81: The name tf.placeholder is deprecated. Please use tf.compat.v1.placeholder instead.\n",
      "\n"
     ]
    }
   ],
   "source": [
    "convnet = input_data(shape = [None, img_size, img_size, 1], name = 'input')"
   ]
  },
  {
   "cell_type": "markdown",
   "metadata": {
    "_uuid": "5d2ab6fb8f86898eda9e74ce5ee8acdfc7588b6b"
   },
   "source": [
    "3个CNN及2个max pooling层\n",
    "\n",
    "-- conv_2d(convnet, 32, 5, activation='relu')表示建立32个filter，每一个大小都是5x5xchannel。因为默认使用\"SAME\" padding,加了0使得每个点都可以对应filter左上角\n",
    "\n",
    "-- max_pool_2d(convnet, 5)表示对于输出的每个5x5的区域求最大值"
   ]
  },
  {
   "cell_type": "code",
   "execution_count": 10,
   "metadata": {
    "_uuid": "a76934319e930e41b4f393647ab8bc90e8ae97e0"
   },
   "outputs": [
    {
     "name": "stderr",
     "output_type": "stream",
     "text": [
      "W0919 15:08:30.179275 4563932608 deprecation.py:506] From /anaconda3/lib/python3.7/site-packages/tflearn/initializations.py:119: calling UniformUnitScaling.__init__ (from tensorflow.python.ops.init_ops) with dtype is deprecated and will be removed in a future version.\n",
      "Instructions for updating:\n",
      "Call initializer instance with the dtype argument instead of passing it to the constructor\n",
      "W0919 15:08:30.180154 4563932608 deprecation.py:323] From /anaconda3/lib/python3.7/site-packages/tensorflow/python/util/deprecation.py:507: UniformUnitScaling.__init__ (from tensorflow.python.ops.init_ops) is deprecated and will be removed in a future version.\n",
      "Instructions for updating:\n",
      "Use tf.initializers.variance_scaling instead with distribution=uniform to get equivalent behavior.\n",
      "W0919 15:08:30.198189 4563932608 deprecation_wrapper.py:119] From /anaconda3/lib/python3.7/site-packages/tflearn/layers/conv.py:552: The name tf.nn.max_pool is deprecated. Please use tf.nn.max_pool2d instead.\n",
      "\n"
     ]
    }
   ],
   "source": [
    "convnet = conv_2d(convnet, 32, 5, activation='relu')\n",
    "convnet = max_pool_2d(convnet, 5)\n",
    "\n",
    "convnet = conv_2d(convnet, 64, 5, activation='relu')\n",
    "convnet = max_pool_2d(convnet, 5)\n",
    "\n",
    "convnet = conv_2d(convnet, 128, 5, activation='relu')\n",
    "convnet = max_pool_2d(convnet, 5)\n",
    "\n",
    "convnet = conv_2d(convnet, 64, 5, activation='relu')\n",
    "convnet = max_pool_2d(convnet, 5)\n",
    "\n",
    "convnet = conv_2d(convnet, 32, 5, activation='relu')\n",
    "convnet = max_pool_2d(convnet, 5)"
   ]
  },
  {
   "cell_type": "markdown",
   "metadata": {
    "_uuid": "ac674fac4730097aaf3a3390fab727e30cac605e"
   },
   "source": [
    "两个全连接层与预测层"
   ]
  },
  {
   "cell_type": "code",
   "execution_count": 11,
   "metadata": {
    "_uuid": "e5a9cc81f62d17075abb320b34b612838257ddc7"
   },
   "outputs": [
    {
     "name": "stderr",
     "output_type": "stream",
     "text": [
      "W0919 15:08:30.248870 4563932608 deprecation.py:506] From /anaconda3/lib/python3.7/site-packages/tflearn/initializations.py:174: calling TruncatedNormal.__init__ (from tensorflow.python.ops.init_ops) with dtype is deprecated and will be removed in a future version.\n",
      "Instructions for updating:\n",
      "Call initializer instance with the dtype argument instead of passing it to the constructor\n",
      "W0919 15:08:30.271872 4563932608 deprecation.py:506] From /anaconda3/lib/python3.7/site-packages/tflearn/layers/core.py:239: calling dropout (from tensorflow.python.ops.nn_ops) with keep_prob is deprecated and will be removed in a future version.\n",
      "Instructions for updating:\n",
      "Please use `rate` instead of `keep_prob`. Rate should be set to `rate = 1 - keep_prob`.\n",
      "W0919 15:08:30.300074 4563932608 deprecation_wrapper.py:119] From /anaconda3/lib/python3.7/site-packages/tflearn/optimizers.py:238: The name tf.train.AdamOptimizer is deprecated. Please use tf.compat.v1.train.AdamOptimizer instead.\n",
      "\n",
      "W0919 15:08:30.307286 4563932608 deprecation.py:506] From /anaconda3/lib/python3.7/site-packages/tflearn/objectives.py:66: calling reduce_sum_v1 (from tensorflow.python.ops.math_ops) with keep_dims is deprecated and will be removed in a future version.\n",
      "Instructions for updating:\n",
      "keep_dims is deprecated, use keepdims instead\n"
     ]
    }
   ],
   "source": [
    "convnet = fully_connected(convnet, 1024, activation = 'relu')\n",
    "convnet = dropout(convnet, 0.8)\n",
    "\n",
    "convnet = fully_connected(convnet, 2, activation='softmax')\n",
    "convnet = regression(convnet, optimizer='adam', learning_rate = lr, loss='categorical_crossentropy', name='targets')"
   ]
  },
  {
   "cell_type": "code",
   "execution_count": 12,
   "metadata": {
    "_uuid": "eaa4fa2a104d76058470c559f3e2c3562c6480c7"
   },
   "outputs": [
    {
     "name": "stderr",
     "output_type": "stream",
     "text": [
      "W0919 15:08:30.364306 4563932608 deprecation_wrapper.py:119] From /anaconda3/lib/python3.7/site-packages/tflearn/summaries.py:46: The name tf.summary.scalar is deprecated. Please use tf.compat.v1.summary.scalar instead.\n",
      "\n",
      "W0919 15:08:30.421719 4563932608 deprecation.py:323] From /anaconda3/lib/python3.7/site-packages/tensorflow/python/ops/math_grad.py:1250: add_dispatch_support.<locals>.wrapper (from tensorflow.python.ops.array_ops) is deprecated and will be removed in a future version.\n",
      "Instructions for updating:\n",
      "Use tf.where in 2.0, which has the same broadcast rule as np.where\n",
      "W0919 15:08:30.746621 4563932608 deprecation_wrapper.py:119] From /anaconda3/lib/python3.7/site-packages/tflearn/helpers/trainer.py:134: The name tf.train.Saver is deprecated. Please use tf.compat.v1.train.Saver instead.\n",
      "\n"
     ]
    }
   ],
   "source": [
    "model = tflearn.DNN(convnet, tensorboard_dir='log')"
   ]
  },
  {
   "cell_type": "code",
   "execution_count": 13,
   "metadata": {
    "_uuid": "c848f9b848d979281271bf801e443f03c52a4f27"
   },
   "outputs": [],
   "source": [
    "train = train_data[:-500]"
   ]
  },
  {
   "cell_type": "code",
   "execution_count": 14,
   "metadata": {
    "_uuid": "3358c3922271266a2d67c7bb884aa2304ab67f77"
   },
   "outputs": [],
   "source": [
    "test = train_data[-500:]"
   ]
  },
  {
   "cell_type": "code",
   "execution_count": 15,
   "metadata": {
    "_uuid": "901638898997d6dcd2c922a54462e3ee3b7f0b87"
   },
   "outputs": [],
   "source": [
    "X = np.array([i[0] for i in train], dtype=np.float64).reshape(-1, img_size, img_size, 1)\n",
    "y = np.array([i[1] for i in train], dtype=np.float64)\n",
    "Xtest = np.array([i[0] for i in test], dtype=np.float64).reshape(-1, img_size, img_size, 1)\n",
    "ytest = np.array([i[1] for i in test], dtype=np.float64)"
   ]
  },
  {
   "cell_type": "markdown",
   "metadata": {
    "_uuid": "8aecc36b170d7bacd910d2d5b747bf9633bf3017"
   },
   "source": [
    "在训练集上训练，无GPU大约需要2-3分钟"
   ]
  },
  {
   "cell_type": "code",
   "execution_count": 16,
   "metadata": {
    "_uuid": "9fbb1de0b19baab856109c759dc77685c669e58b"
   },
   "outputs": [
    {
     "name": "stdout",
     "output_type": "stream",
     "text": [
      "Training Step: 1148  | total loss: \u001b[1m\u001b[32m0.46691\u001b[0m\u001b[0m | time: 31.101s\n",
      "| Adam | epoch: 003 | loss: 0.46691 - acc: 0.7826 -- iter: 24448/24500\n",
      "Training Step: 1149  | total loss: \u001b[1m\u001b[32m0.46561\u001b[0m\u001b[0m | time: 32.187s\n",
      "| Adam | epoch: 003 | loss: 0.46561 - acc: 0.7856 | val_loss: 0.52803 - val_acc: 0.7480 -- iter: 24500/24500\n",
      "--\n"
     ]
    }
   ],
   "source": [
    "model.fit({'input': X}, {'targets': y}, n_epoch=3, validation_set=({'input': Xtest}, {'targets': ytest}), snapshot_step=500, show_metric=True, run_id='model' )"
   ]
  },
  {
   "cell_type": "markdown",
   "metadata": {
    "_uuid": "3a026564231b2a2e40fe4b24763c1c27ca4d9899"
   },
   "source": [
    "读入测试数据，大约需要30秒"
   ]
  },
  {
   "cell_type": "code",
   "execution_count": 17,
   "metadata": {
    "_uuid": "f377ebc20ffea394b746715438642e14494356f5"
   },
   "outputs": [
    {
     "name": "stderr",
     "output_type": "stream",
     "text": [
      "100%|██████████| 12500/12500 [00:17<00:00, 697.53it/s]\n"
     ]
    }
   ],
   "source": [
    "test_data = process_test_data()"
   ]
  },
  {
   "cell_type": "markdown",
   "metadata": {
    "_uuid": "019ea2993dfa572d87dc5df1f6c5a8bbe5b21480"
   },
   "source": [
    "输出测试数据上一些例子的预测"
   ]
  },
  {
   "cell_type": "code",
   "execution_count": 18,
   "metadata": {
    "_uuid": "896505187113ef22ad38a8de118820441c50adef"
   },
   "outputs": [
    {
     "data": {
      "image/png": "[encoded data removed]",
      "text/plain": [
       "<Figure size 432x288 with 16 Axes>"
      ]
     },
     "metadata": {
      "needs_background": "light"
     },
     "output_type": "display_data"
    }
   ],
   "source": [
    "fig = plt.figure()\n",
    "for num,data in enumerate(test_data[:16]):\n",
    "    img_num = data[1]\n",
    "    img_data = data[0]\n",
    "    y = fig.add_subplot(4, 4, num+1)\n",
    "    orig = img_data\n",
    "    data = img_data.reshape(img_size, img_size, 1)\n",
    "    model_out = model.predict([data])[0]\n",
    "    if np.argmax(model_out) == 1: \n",
    "        label = 'Dog'\n",
    "    else: \n",
    "        label = 'Cat'\n",
    "    \n",
    "    y.imshow(orig, cmap='gray')\n",
    "    plt.title(label)\n",
    "    y.axes.get_xaxis().set_visible(False)\n",
    "    y.axes.get_yaxis().set_visible(False)\n",
    "    \n",
    "plt.tight_layout()\n",
    "plt.show()"
   ]
  },
  {
   "cell_type": "code",
   "execution_count": null,
   "metadata": {
    "_uuid": "8afff4852e3b5b2df2493a565344d39a496292d6",
    "collapsed": true,
    "jupyter": {
     "outputs_hidden": true
    }
   },
   "outputs": [],
   "source": []
  }
 ],
 "metadata": {
  "kernelspec": {
   "display_name": "Python 3",
   "language": "python",
   "name": "python3"
  },
  "language_info": {
   "codemirror_mode": {
    "name": "ipython",
    "version": 3
   },
   "file_extension": ".py",
   "mimetype": "text/x-python",
   "name": "python",
   "nbconvert_exporter": "python",
   "pygments_lexer": "ipython3",
   "version": "3.7.4"
  }
 },
 "nbformat": 4,
 "nbformat_minor": 4
}
